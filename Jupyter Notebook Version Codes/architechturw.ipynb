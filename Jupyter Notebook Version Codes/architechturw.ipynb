{
 "cells": [
  {
   "cell_type": "code",
   "execution_count": 1,
   "metadata": {},
   "outputs": [
    {
     "ename": "ImportError",
     "evalue": "cannot import name 'Aer' from 'qiskit' (c:\\Users\\Snaptokon\\anaconda3\\envs\\cwq\\Lib\\site-packages\\qiskit\\__init__.py)",
     "output_type": "error",
     "traceback": [
      "\u001b[1;31m---------------------------------------------------------------------------\u001b[0m",
      "\u001b[1;31mImportError\u001b[0m                               Traceback (most recent call last)",
      "Cell \u001b[1;32mIn[1], line 3\u001b[0m\n\u001b[0;32m      1\u001b[0m \u001b[38;5;28;01mimport\u001b[39;00m \u001b[38;5;21;01mnumpy\u001b[39;00m \u001b[38;5;28;01mas\u001b[39;00m \u001b[38;5;21;01mnp\u001b[39;00m\n\u001b[0;32m      2\u001b[0m \u001b[38;5;28;01mimport\u001b[39;00m \u001b[38;5;21;01mmatplotlib\u001b[39;00m\u001b[38;5;21;01m.\u001b[39;00m\u001b[38;5;21;01mpyplot\u001b[39;00m \u001b[38;5;28;01mas\u001b[39;00m \u001b[38;5;21;01mplt\u001b[39;00m\n\u001b[1;32m----> 3\u001b[0m \u001b[38;5;28;01mfrom\u001b[39;00m \u001b[38;5;21;01mqiskit\u001b[39;00m \u001b[38;5;28;01mimport\u001b[39;00m QuantumCircuit, Aer, execute\n\u001b[0;32m      4\u001b[0m \u001b[38;5;28;01mfrom\u001b[39;00m \u001b[38;5;21;01mqiskit\u001b[39;00m\u001b[38;5;21;01m.\u001b[39;00m\u001b[38;5;21;01mvisualization\u001b[39;00m \u001b[38;5;28;01mimport\u001b[39;00m plot_histogram\n\u001b[0;32m      5\u001b[0m \u001b[38;5;28;01mfrom\u001b[39;00m \u001b[38;5;21;01mPIL\u001b[39;00m \u001b[38;5;28;01mimport\u001b[39;00m Image\n",
      "\u001b[1;31mImportError\u001b[0m: cannot import name 'Aer' from 'qiskit' (c:\\Users\\Snaptokon\\anaconda3\\envs\\cwq\\Lib\\site-packages\\qiskit\\__init__.py)"
     ]
    }
   ],
   "source": [
    "import numpy as np\n",
    "import matplotlib.pyplot as plt\n",
    "from qiskit import QuantumCircuit, execute\n",
    "from qiskit_aer import Aer\n",
    "from qiskit.visualization import plot_histogram\n",
    "from PIL import Image\n",
    "\n",
    "# 1. Classical Preprocessing\n",
    "def preprocess_image(image_path):\n",
    "    img = Image.open(image_path).convert('L')  # Grayscale\n",
    "    img = np.array(img)\n",
    "    threshold = 128  # Adjust as needed\n",
    "    img = (img > threshold).astype(np.uint8)  # Binary thresholding\n",
    "    chunks = [img[x:x+4, y:y+4] for x in range(0, img.shape[0], 4) \n",
    "              for y in range(0, img.shape[1], 4)]\n",
    "    return chunks\n",
    "\n",
    "# 2. Quantum Encoding (FRQI)\n",
    "def encode_chunk(chunk):\n",
    "    qc = QuantumCircuit(16)  # 4x4 = 16 qubits\n",
    "    for i in range(4):\n",
    "        for j in range(4):\n",
    "            if chunk[i, j] == 1:\n",
    "                qc.x(i * 4 + j)  # Flip qubit for white pixel\n",
    "    return qc\n",
    "\n",
    "# 3. Quantum Operation (Simulation)\n",
    "def apply_dilation(qc):\n",
    "    for i in range(4):\n",
    "        for j in range(4):\n",
    "            idx = i * 4 + j\n",
    "            for dx, dy in [(0, 1), (1, 0), (0, -1), (-1, 0)]:\n",
    "                new_i, new_j = i + dx, j + dy\n",
    "                if 0 <= new_i < 4 and 0 <= new_j < 4:\n",
    "                    qc.cx(idx, new_i * 4 + new_j)\n",
    "    return qc\n",
    "\n",
    "# 4. Classical Decoding & Analysis\n",
    "def decode_counts(counts, image_size=(4, 4)):\n",
    "    img = np.zeros(image_size)\n",
    "    for key, count in counts.items():\n",
    "        for i, bit in enumerate(key[::-1]):\n",
    "            img[i // 4, i % 4] = int(bit)\n",
    "    return img\n",
    "\n",
    "# --- Main Execution ---\n",
    "image_path = 'your_image.png' \n",
    "chunks = preprocess_image(image_path)\n",
    "\n",
    "for chunk in chunks:\n",
    "    qc = encode_chunk(chunk)\n",
    "    qc = apply_dilation(qc)\n",
    "\n",
    "    backend = Aer.get_backend('qasm_simulator')\n",
    "    result = execute(qc, backend, shots=1024).result()\n",
    "    counts = result.get_counts()\n",
    "\n",
    "    dilated_chunk = decode_counts(counts)\n",
    "\n",
    "    print(\"Original Chunk:\\n\", chunk)\n",
    "    print(\"Dilated Chunk:\\n\", dilated_chunk)\n",
    "\n",
    "    # (Optional) Display histogram of measurement results\n",
    "    plot_histogram(counts)\n",
    "    plt.show()\n"
   ]
  }
 ],
 "metadata": {
  "kernelspec": {
   "display_name": "cwq",
   "language": "python",
   "name": "python3"
  },
  "language_info": {
   "codemirror_mode": {
    "name": "ipython",
    "version": 3
   },
   "file_extension": ".py",
   "mimetype": "text/x-python",
   "name": "python",
   "nbconvert_exporter": "python",
   "pygments_lexer": "ipython3",
   "version": "3.12.3"
  }
 },
 "nbformat": 4,
 "nbformat_minor": 2
}
