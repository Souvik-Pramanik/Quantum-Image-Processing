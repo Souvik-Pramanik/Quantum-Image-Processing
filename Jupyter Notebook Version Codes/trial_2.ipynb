{
 "cells": [
  {
   "cell_type": "markdown",
   "metadata": {},
   "source": [
    "# Step 1: Install Required Packages\n",
    "## Ensure all necessary packages are installed. If you haven't installed them yet, run the following cell:"
   ]
  },
  {
   "cell_type": "code",
   "execution_count": 1,
   "metadata": {},
   "outputs": [
    {
     "name": "stdout",
     "output_type": "stream",
     "text": [
      "Requirement already satisfied: qiskit in c:\\users\\snaptokon\\anaconda3\\envs\\cwq\\lib\\site-packages (1.1.0)\n",
      "Requirement already satisfied: qiskit-aer in c:\\users\\snaptokon\\anaconda3\\envs\\cwq\\lib\\site-packages (0.14.1)\n",
      "Requirement already satisfied: pillow in c:\\users\\snaptokon\\anaconda3\\envs\\cwq\\lib\\site-packages (10.3.0)\n",
      "Requirement already satisfied: matplotlib in c:\\users\\snaptokon\\anaconda3\\envs\\cwq\\lib\\site-packages (3.9.0)\n",
      "Requirement already satisfied: rustworkx>=0.14.0 in c:\\users\\snaptokon\\anaconda3\\envs\\cwq\\lib\\site-packages (from qiskit) (0.14.2)\n",
      "Requirement already satisfied: numpy<3,>=1.17 in c:\\users\\snaptokon\\anaconda3\\envs\\cwq\\lib\\site-packages (from qiskit) (1.26.4)\n",
      "Requirement already satisfied: scipy>=1.5 in c:\\users\\snaptokon\\anaconda3\\envs\\cwq\\lib\\site-packages (from qiskit) (1.13.1)\n",
      "Requirement already satisfied: sympy>=1.3 in c:\\users\\snaptokon\\anaconda3\\envs\\cwq\\lib\\site-packages (from qiskit) (1.12)\n",
      "Requirement already satisfied: dill>=0.3 in c:\\users\\snaptokon\\anaconda3\\envs\\cwq\\lib\\site-packages (from qiskit) (0.3.8)\n",
      "Requirement already satisfied: python-dateutil>=2.8.0 in c:\\users\\snaptokon\\anaconda3\\envs\\cwq\\lib\\site-packages (from qiskit) (2.9.0)\n",
      "Requirement already satisfied: stevedore>=3.0.0 in c:\\users\\snaptokon\\anaconda3\\envs\\cwq\\lib\\site-packages (from qiskit) (5.2.0)\n",
      "Requirement already satisfied: typing-extensions in c:\\users\\snaptokon\\anaconda3\\envs\\cwq\\lib\\site-packages (from qiskit) (4.11.0)\n",
      "Requirement already satisfied: symengine>=0.11 in c:\\users\\snaptokon\\anaconda3\\envs\\cwq\\lib\\site-packages (from qiskit) (0.11.0)\n",
      "Requirement already satisfied: psutil>=5 in c:\\users\\snaptokon\\anaconda3\\envs\\cwq\\lib\\site-packages (from qiskit-aer) (5.9.0)\n",
      "Requirement already satisfied: contourpy>=1.0.1 in c:\\users\\snaptokon\\anaconda3\\envs\\cwq\\lib\\site-packages (from matplotlib) (1.2.1)\n",
      "Requirement already satisfied: cycler>=0.10 in c:\\users\\snaptokon\\anaconda3\\envs\\cwq\\lib\\site-packages (from matplotlib) (0.12.1)\n",
      "Requirement already satisfied: fonttools>=4.22.0 in c:\\users\\snaptokon\\anaconda3\\envs\\cwq\\lib\\site-packages (from matplotlib) (4.52.1)\n",
      "Requirement already satisfied: kiwisolver>=1.3.1 in c:\\users\\snaptokon\\anaconda3\\envs\\cwq\\lib\\site-packages (from matplotlib) (1.4.5)\n",
      "Requirement already satisfied: packaging>=20.0 in c:\\users\\snaptokon\\anaconda3\\envs\\cwq\\lib\\site-packages (from matplotlib) (24.0)\n",
      "Requirement already satisfied: pyparsing>=2.3.1 in c:\\users\\snaptokon\\anaconda3\\envs\\cwq\\lib\\site-packages (from matplotlib) (3.1.2)\n",
      "Requirement already satisfied: six>=1.5 in c:\\users\\snaptokon\\anaconda3\\envs\\cwq\\lib\\site-packages (from python-dateutil>=2.8.0->qiskit) (1.16.0)\n",
      "Requirement already satisfied: pbr!=2.1.0,>=2.0.0 in c:\\users\\snaptokon\\anaconda3\\envs\\cwq\\lib\\site-packages (from stevedore>=3.0.0->qiskit) (6.0.0)\n",
      "Requirement already satisfied: mpmath>=0.19 in c:\\users\\snaptokon\\anaconda3\\envs\\cwq\\lib\\site-packages (from sympy>=1.3->qiskit) (1.3.0)\n"
     ]
    }
   ],
   "source": [
    "!pip install qiskit qiskit-aer pillow matplotlib"
   ]
  },
  {
   "cell_type": "markdown",
   "metadata": {},
   "source": [
    "# Step 2: Import Required Libraries\n",
    "## Ensure all necessary libraries are imported correctly:"
   ]
  },
  {
   "cell_type": "code",
   "execution_count": 2,
   "metadata": {},
   "outputs": [],
   "source": [
    "# Import necessary libraries\n",
    "from qiskit import QuantumCircuit, ClassicalRegister, QuantumRegister, transpile, assemble\n",
    "from qiskit_aer import Aer\n",
    "import numpy as np\n",
    "import matplotlib.pyplot as plt\n",
    "from PIL import Image"
   ]
  },
  {
   "cell_type": "markdown",
   "metadata": {},
   "source": [
    "# Step 3: Load and Preprocess the Image\n",
    "## Define a function to load and preprocess the image:"
   ]
  },
  {
   "cell_type": "code",
   "execution_count": 3,
   "metadata": {},
   "outputs": [],
   "source": [
    "def load_image(image_path, size=(4, 4)):\n",
    "    image = Image.open(image_path).convert('L')\n",
    "    image = image.resize(size)\n",
    "    image = np.asarray(image)\n",
    "    image = (image > 128).astype(int)  # Convert to binary image\n",
    "    return image"
   ]
  },
  {
   "cell_type": "markdown",
   "metadata": {},
   "source": [
    "# Step 4: Encode the Image into a Quantum Circuit\n",
    "## Define a function to encode the image into a quantum circuit:"
   ]
  },
  {
   "cell_type": "code",
   "execution_count": 5,
   "metadata": {},
   "outputs": [],
   "source": [
    "def encode_image_to_quantum(image):\n",
    "    num_qubits = image.size\n",
    "    qc = QuantumCircuit(num_qubits)\n",
    "    \n",
    "    for idx, pixel in enumerate(image.flatten()):\n",
    "        if pixel == 1:\n",
    "            qc.x(idx)\n",
    "    return qc"
   ]
  },
  {
   "cell_type": "markdown",
   "metadata": {},
   "source": [
    "# Step 5: Apply the Dilation Operator\n",
    "## Define a function to apply the dilation operator to the quantum circuit:"
   ]
  },
  {
   "cell_type": "code",
   "execution_count": 6,
   "metadata": {},
   "outputs": [],
   "source": [
    "def apply_dilation_operator(qc, image_size):\n",
    "    num_qubits = image_size[0] * image_size[1]\n",
    "    \n",
    "    for i in range(image_size[0]):\n",
    "        for j in range(image_size[1]):\n",
    "            idx = i * image_size[1] + j\n",
    "            neighbors = []\n",
    "            if i > 0:  # up\n",
    "                neighbors.append(idx - image_size[1])\n",
    "            if i < image_size[0] - 1:  # down\n",
    "                neighbors.append(idx + image_size[1])\n",
    "            if j > 0:  # left\n",
    "                neighbors.append(idx - 1)\n",
    "            if j < image_size[1] - 1:  # right\n",
    "                neighbors.append(idx + 1)\n",
    "            \n",
    "            for n in neighbors:\n",
    "                qc.cx(idx, n)\n",
    "    return qc"
   ]
  },
  {
   "cell_type": "markdown",
   "metadata": {},
   "source": [
    "# Step 6: Decode the Quantum Result to an Image\n",
    "## Define a function to decode the quantum result into an image:"
   ]
  },
  {
   "cell_type": "code",
   "execution_count": 7,
   "metadata": {},
   "outputs": [],
   "source": [
    "def decode_quantum_to_image(counts, image_size):\n",
    "    max_state = max(counts, key=counts.get)\n",
    "    binary_string = format(int(max_state, 16), f'0{image_size[0] * image_size[1]}b')\n",
    "    image = np.array(list(map(int, binary_string))).reshape(image_size)\n",
    "    return image"
   ]
  },
  {
   "cell_type": "markdown",
   "metadata": {},
   "source": [
    "# Step 7: Perform Morphological Dilation\n",
    "## Define the main function that performs morphological dilation:"
   ]
  },
  {
   "cell_type": "code",
   "execution_count": 12,
   "metadata": {},
   "outputs": [
    {
     "data": {
      "image/png": "[encoded data removed]",
      "text/plain": [
       "<Figure size 1000x500 with 2 Axes>"
      ]
     },
     "metadata": {},
     "output_type": "display_data"
    }
   ],
   "source": [
    "def morphological_dilation(image_path):\n",
    "    image = load_image(image_path)\n",
    "    image_size = image.shape\n",
    "    \n",
    "    # Encode the image into a quantum circuit\n",
    "    qc = encode_image_to_quantum(image)\n",
    "    \n",
    "    # Apply dilation operator\n",
    "    qc = apply_dilation_operator(qc, image_size)\n",
    "    \n",
    "    # Measure the quantum circuit\n",
    "    cr = ClassicalRegister(image.size)\n",
    "    qc.add_register(cr)\n",
    "    qc.measure(range(image.size), range(image.size))\n",
    "    \n",
    "    # Execute the circuit\n",
    "    backend = Aer.get_backend('qasm_simulator')\n",
    "    t_qc = transpile(qc, backend)\n",
    "    job = backend.run(t_qc)\n",
    "    result = job.result()\n",
    "    counts = result.get_counts()\n",
    "    \n",
    "    # Decode the result to an image\n",
    "    dilated_image = decode_quantum_to_image(counts, image_size)\n",
    "    \n",
    "    # Display the original and dilated images\n",
    "    fig, axs = plt.subplots(1, 2, figsize=(10, 5))\n",
    "    axs[0].imshow(image, cmap='gray')\n",
    "    axs[0].set_title('Original Image')\n",
    "    axs[1].imshow(dilated_image, cmap='gray')\n",
    "    axs[1].set_title('Dilated Image')\n",
    "    plt.show()\n",
    "\n",
    "# Example usage\n",
    "image_path = r'C:/Users/Snaptokon/OneDrive/Documents/TINT/Research/Codes/single_dot_image.png'  # Update this path to your image file\n",
    "morphological_dilation(image_path)"
   ]
  }
 ],
 "metadata": {
  "kernelspec": {
   "display_name": "cwq",
   "language": "python",
   "name": "python3"
  },
  "language_info": {
   "codemirror_mode": {
    "name": "ipython",
    "version": 3
   },
   "file_extension": ".py",
   "mimetype": "text/x-python",
   "name": "python",
   "nbconvert_exporter": "python",
   "pygments_lexer": "ipython3",
   "version": "3.12.3"
  }
 },
 "nbformat": 4,
 "nbformat_minor": 2
}
