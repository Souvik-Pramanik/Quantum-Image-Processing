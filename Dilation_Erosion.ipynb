{
 "cells": [
  {
   "cell_type": "markdown",
   "metadata": {},
   "source": [
    "1. **Imports and Helper Functions:**\n",
    "\n",
    "    - Import necessary libraries.\n",
    "    - Define helper functions for loading, saving, and displaying images.\n",
    "    - Define helper functions for calculating mean and standard deviation of images.\n",
    "\n",
    "2. **Quantum Dilation Functions:**\n",
    "\n",
    "    - Functions for quantum image encoding, applying the dilation operator, and processing chunks.\n",
    "\n",
    "3. **Classical Erosion Functions:**\n",
    "\n",
    "    - Functions for classical erosion and a placeholder quantum erosion function.\n",
    "\n",
    "4. **Image Sharpening and Restoration Functions:**\n",
    "\n",
    "    - Functions for image sharpening and restoration.\n",
    "\n",
    "5. **Example Usage:**\n",
    "\n",
    "    - Example usage for each operation: dilation, erosion, sharpening, and restoration.\n",
    " "
   ]
  },
  {
   "cell_type": "markdown",
   "metadata": {},
   "source": [
    "# Install necessary libraries if not already installed\n",
    "`!pip install qiskit opencv-python matplotlib mplcursors Pillow`"
   ]
  },
  {
   "cell_type": "markdown",
   "metadata": {},
   "source": [
    "## **Part 1:** Imports and Helper Functions"
   ]
  },
  {
   "cell_type": "code",
   "execution_count": 1,
   "metadata": {},
   "outputs": [],
   "source": [
    "# Import necessary libraries\n",
    "import numpy as np\n",
    "import matplotlib.pyplot as plt\n",
    "from qiskit import QuantumCircuit, ClassicalRegister, QuantumRegister, transpile, assemble\n",
    "from qiskit_aer import Aer\n",
    "from PIL import Image\n",
    "import cv2\n",
    "import mplcursors\n",
    "\n",
    "# Load and preprocess image\n",
    "def load_image(image_path):\n",
    "    image = Image.open(image_path).convert('L')  # Convert image to grayscale\n",
    "    image = np.array(image)\n",
    "    image = (image > 128).astype(int)  # Convert to binary image\n",
    "    return image\n",
    "\n",
    "# Save image\n",
    "def save_image(image, path):\n",
    "    image = Image.fromarray((image * 255).astype(np.uint8))\n",
    "    image.save(path)\n",
    "\n",
    "# Display images with borders and coordinates\n",
    "def display_images_with_borders(original, processed, titles):\n",
    "    fig, axes = plt.subplots(1, 2, figsize=(12, 6))\n",
    "    im0 = axes[0].imshow(original, cmap='gray')\n",
    "    axes[0].set_title(titles[0])\n",
    "    axes[0].set_xticks(np.arange(-0.5, original.shape[1], 1))\n",
    "    axes[0].set_yticks(np.arange(-0.5, original.shape[0], 1))\n",
    "    axes[0].set_xticklabels(np.arange(0, original.shape[1] + 1, 1))\n",
    "    axes[0].set_yticklabels(np.arange(0, original.shape[0] + 1, 1))\n",
    "    axes[0].grid(color='red', linestyle='-', linewidth=1)\n",
    "    im1 = axes[1].imshow(processed, cmap='gray')\n",
    "    axes[1].set_title(titles[1])\n",
    "    axes[1].set_xticks(np.arange(-0.5, processed.shape[1], 1))\n",
    "    axes[1].set_yticks(np.arange(-0.5, processed.shape[0], 1))\n",
    "    axes[1].set_xticklabels(np.arange(0, processed.shape[1] + 1, 1))\n",
    "    axes[1].set_yticklabels(np.arange(0, processed.shape[0] + 1, 1))\n",
    "    axes[1].grid(color='red', linestyle='-', linewidth=1)\n",
    "    plt.tight_layout()\n",
    "    cursor0 = mplcursors.cursor(im0, hover=True)\n",
    "    cursor1 = mplcursors.cursor(im1, hover=True)\n",
    "    cursor0.connect(\"add\", lambda sel: sel.annotation.set_text(f\"x={int(sel.target[0])}, y={int(sel.target[1])}\"))\n",
    "    cursor1.connect(\"add\", lambda sel: sel.annotation.set_text(f\"x={int(sel.target[0])}, y={int(sel.target[1])}\"))\n",
    "    plt.show()\n"
   ]
  },
  {
   "cell_type": "markdown",
   "metadata": {},
   "source": [
    "## **Part 2:** Quantum Dilation Functions"
   ]
  },
  {
   "cell_type": "code",
   "execution_count": 31,
   "metadata": {},
   "outputs": [],
   "source": [
    "# Encode image to quantum\n",
    "def encode_image_to_quantum(image):\n",
    "    n = image.size\n",
    "    qr = QuantumRegister(n)\n",
    "    qc = QuantumCircuit(qr)\n",
    "    for i, pixel in enumerate(image.flatten()):\n",
    "        if pixel == 1:\n",
    "            qc.x(qr[i])\n",
    "    return qc\n",
    "\n",
    "# Apply dilation operator\n",
    "def apply_dilation_operator(qc, image_size):\n",
    "    n = image_size[0] * image_size[1]\n",
    "    qr = qc.qregs[0]\n",
    "    for i in range(image_size[0]):\n",
    "        for j in range(image_size[1]):\n",
    "            idx = i * image_size[1] + j\n",
    "            if i > 0:  # Top neighbor\n",
    "                qc.cx(qr[idx], qr[idx - image_size[1]])\n",
    "            if i < image_size[0] - 1:  # Bottom neighbor\n",
    "                qc.cx(qr[idx], qr[idx + image_size[1]])\n",
    "            if j > 0:  # Left neighbor\n",
    "                qc.cx(qr[idx], qr[idx - 1])\n",
    "            if j < image_size[1] - 1:  # Right neighbor\n",
    "                qc.cx(qr[idx], qr[idx + 1])\n",
    "    return qc\n",
    "\n",
    "# Decode quantum to image\n",
    "def decode_quantum_to_image(counts, image_size):\n",
    "    image = np.zeros(image_size)\n",
    "    max_count_key = max(counts, key=counts.get)  # Find the most probable outcome\n",
    "    for i, bit in enumerate(max_count_key[::-1]):\n",
    "        image[i // image_size[1], i % image_size[1]] = int(bit)\n",
    "    return image\n",
    "\n",
    "# Process chunk for dilation\n",
    "def process_chunk_dilation(chunk):\n",
    "    image_size = chunk.shape\n",
    "    qc = encode_image_to_quantum(chunk)\n",
    "    qc = apply_dilation_operator(qc, image_size)\n",
    "    cr = ClassicalRegister(image_size[0] * image_size[1])\n",
    "    qc.add_register(cr)\n",
    "    qc.measure(range(image_size[0] * image_size[1]), range(image_size[0] * image_size[1]))\n",
    "    backend = Aer.get_backend('qasm_simulator')\n",
    "    t_qc = transpile(qc, backend)\n",
    "    job = backend.run(t_qc)\n",
    "    result = job.result()\n",
    "    counts = result.get_counts()\n",
    "    dilated_chunk = decode_quantum_to_image(counts, image_size)\n",
    "    return dilated_chunk\n",
    "\n",
    "# Perform morphological dilation\n",
    "def morphological_dilation(image_path, chunk_size=(4, 4)):\n",
    "    image = load_image(image_path)\n",
    "    image_height, image_width = image.shape\n",
    "    chunk_height, chunk_width = chunk_size\n",
    "    dilated_image = np.zeros_like(image)\n",
    "    for i in range(0, image_height, chunk_height):\n",
    "        for j in range(0, image_width, chunk_width):\n",
    "            chunk = image[i:i+chunk_height, j:j+chunk_width]\n",
    "            if chunk.shape[0] != chunk_height or chunk.shape[1] != chunk_width:\n",
    "                chunk = np.pad(chunk, ((0, chunk_height - chunk.shape[0]), (0, chunk_width - chunk.shape[1])), 'constant')\n",
    "            dilated_chunk = process_chunk_dilation(chunk)\n",
    "            dilated_image[i:i+chunk_height, j:j+chunk_width] = dilated_chunk[:chunk.shape[0], :chunk.shape[1]]\n",
    "    return image, dilated_image\n"
   ]
  },
  {
   "cell_type": "markdown",
   "metadata": {},
   "source": [
    "## **Part 3:** Classical Erosion Functions"
   ]
  },
  {
   "cell_type": "code",
   "execution_count": 30,
   "metadata": {},
   "outputs": [],
   "source": [
    "# Classical morphological erosion\n",
    "def classical_erosion(image, kernel):\n",
    "    return cv2.erode(image, kernel, iterations=1)\n",
    "\n",
    "# Placeholder quantum erosion circuit\n",
    "def quantum_erosion_circuit(image, kernel):\n",
    "    n_qubits = int(np.ceil(np.log2(image.size)))\n",
    "    qc = QuantumCircuit(n_qubits)\n",
    "    qc.h(range(n_qubits))\n",
    "    qc.measure_all()\n",
    "    return qc\n",
    "\n",
    "# Run quantum erosion (placeholder)\n",
    "def run_quantum_erosion(image, kernel):\n",
    "    qc = quantum_erosion_circuit(image, kernel)\n",
    "    backend = Aer.get_backend('qasm_simulator')\n",
    "    tqc = transpile(qc, backend)\n",
    "    qobj = assemble(tqc)\n",
    "    result = backend.run(qobj).result()\n",
    "    counts = result.get_counts()\n",
    "    return image  # Return the original image as a placeholder\n",
    "\n",
    "# Preprocess image for erosion\n",
    "def preprocess_image(image_path):\n",
    "    image = cv2.imread(image_path, cv2.IMREAD_GRAYSCALE)\n",
    "    resized_image = cv2.resize(image, (4, 4), interpolation=cv2.INTER_AREA)\n",
    "    _, binary_image = cv2.threshold(resized_image, 127, 255, cv2.THRESH_BINARY)\n",
    "    return binary_image\n"
   ]
  },
  {
   "cell_type": "markdown",
   "metadata": {},
   "source": [
    "## **Part 4:** Image Sharpening and Restoration Functions"
   ]
  },
  {
   "cell_type": "code",
   "execution_count": 28,
   "metadata": {},
   "outputs": [],
   "source": [
    "# Image sharpening using Laplacian kernel\n",
    "def image_sharpening(image):\n",
    "    # Ensure the image is in the correct format\n",
    "    if image.dtype != np.uint8:\n",
    "        image = (image * 255).astype(np.uint8)\n",
    "    \n",
    "    laplacian_kernel = np.array([[0, -1, 0],\n",
    "                                 [-1, 5, -1],\n",
    "                                 [0, -1, 0]])\n",
    "    sharpened_image = cv2.filter2D(image, -1, laplacian_kernel)\n",
    "    return sharpened_image\n",
    "\n",
    "# Image restoration using deblurring\n",
    "def image_restoration(image):\n",
    "    # Ensure the image is in the correct format\n",
    "    if image.dtype != np.uint8:\n",
    "        image = (image * 255).astype(np.uint8)\n",
    "    \n",
    "    # Apply Wiener filter for deblurring (placeholder)\n",
    "    restored_image = cv2.fastNlMeansDenoising(image, None, 30, 7, 21)\n",
    "    return restored_image\n"
   ]
  },
  {
   "cell_type": "markdown",
   "metadata": {},
   "source": [
    "## **Part 5:** Example Usage"
   ]
  },
  {
   "cell_type": "code",
   "execution_count": 33,
   "metadata": {},
   "outputs": [
    {
     "ename": "ValueError",
     "evalue": "could not broadcast input array from shape (4,4) into shape (4,1)",
     "output_type": "error",
     "traceback": [
      "\u001b[1;31m---------------------------------------------------------------------------\u001b[0m",
      "\u001b[1;31mValueError\u001b[0m                                Traceback (most recent call last)",
      "Cell \u001b[1;32mIn[33], line 5\u001b[0m\n\u001b[0;32m      2\u001b[0m image_path \u001b[38;5;241m=\u001b[39m \u001b[38;5;124mr\u001b[39m\u001b[38;5;124m'\u001b[39m\u001b[38;5;124mC:\u001b[39m\u001b[38;5;124m\\\u001b[39m\u001b[38;5;124mUsers\u001b[39m\u001b[38;5;124m\\\u001b[39m\u001b[38;5;124mSnaptokon\u001b[39m\u001b[38;5;124m\\\u001b[39m\u001b[38;5;124mOneDrive\u001b[39m\u001b[38;5;124m\\\u001b[39m\u001b[38;5;124mDocuments\u001b[39m\u001b[38;5;124m\\\u001b[39m\u001b[38;5;124mTINT\u001b[39m\u001b[38;5;124m\\\u001b[39m\u001b[38;5;124mResearch\u001b[39m\u001b[38;5;124m\\\u001b[39m\u001b[38;5;124mCodes\u001b[39m\u001b[38;5;124m\\\u001b[39m\u001b[38;5;124moutput-grayscale.png\u001b[39m\u001b[38;5;124m'\u001b[39m  \u001b[38;5;66;03m# Replace with the path to your image\u001b[39;00m\n\u001b[0;32m      4\u001b[0m \u001b[38;5;66;03m# Perform dilation\u001b[39;00m\n\u001b[1;32m----> 5\u001b[0m original_image, dilated_image \u001b[38;5;241m=\u001b[39m \u001b[43mmorphological_dilation\u001b[49m\u001b[43m(\u001b[49m\u001b[43mimage_path\u001b[49m\u001b[43m)\u001b[49m\n\u001b[0;32m      6\u001b[0m save_image(dilated_image, \u001b[38;5;124m'\u001b[39m\u001b[38;5;124mdilated_image.png\u001b[39m\u001b[38;5;124m'\u001b[39m)  \u001b[38;5;66;03m# Save the dilated image\u001b[39;00m\n\u001b[0;32m      7\u001b[0m display_images_with_borders(original_image, dilated_image, [\u001b[38;5;124m\"\u001b[39m\u001b[38;5;124mOriginal Image\u001b[39m\u001b[38;5;124m\"\u001b[39m, \u001b[38;5;124m\"\u001b[39m\u001b[38;5;124mDilated Image\u001b[39m\u001b[38;5;124m\"\u001b[39m])\n",
      "Cell \u001b[1;32mIn[31], line 64\u001b[0m, in \u001b[0;36mmorphological_dilation\u001b[1;34m(image_path, chunk_size)\u001b[0m\n\u001b[0;32m     62\u001b[0m             chunk \u001b[38;5;241m=\u001b[39m np\u001b[38;5;241m.\u001b[39mpad(chunk, ((\u001b[38;5;241m0\u001b[39m, chunk_height \u001b[38;5;241m-\u001b[39m chunk\u001b[38;5;241m.\u001b[39mshape[\u001b[38;5;241m0\u001b[39m]), (\u001b[38;5;241m0\u001b[39m, chunk_width \u001b[38;5;241m-\u001b[39m chunk\u001b[38;5;241m.\u001b[39mshape[\u001b[38;5;241m1\u001b[39m])), \u001b[38;5;124m'\u001b[39m\u001b[38;5;124mconstant\u001b[39m\u001b[38;5;124m'\u001b[39m)\n\u001b[0;32m     63\u001b[0m         dilated_chunk \u001b[38;5;241m=\u001b[39m process_chunk_dilation(chunk)\n\u001b[1;32m---> 64\u001b[0m         \u001b[43mdilated_image\u001b[49m\u001b[43m[\u001b[49m\u001b[43mi\u001b[49m\u001b[43m:\u001b[49m\u001b[43mi\u001b[49m\u001b[38;5;241;43m+\u001b[39;49m\u001b[43mchunk_height\u001b[49m\u001b[43m,\u001b[49m\u001b[43m \u001b[49m\u001b[43mj\u001b[49m\u001b[43m:\u001b[49m\u001b[43mj\u001b[49m\u001b[38;5;241;43m+\u001b[39;49m\u001b[43mchunk_width\u001b[49m\u001b[43m]\u001b[49m \u001b[38;5;241m=\u001b[39m dilated_chunk[:chunk\u001b[38;5;241m.\u001b[39mshape[\u001b[38;5;241m0\u001b[39m], :chunk\u001b[38;5;241m.\u001b[39mshape[\u001b[38;5;241m1\u001b[39m]]\n\u001b[0;32m     65\u001b[0m \u001b[38;5;28;01mreturn\u001b[39;00m image, dilated_image\n",
      "\u001b[1;31mValueError\u001b[0m: could not broadcast input array from shape (4,4) into shape (4,1)"
     ]
    }
   ],
   "source": [
    "# Example usage\n",
    "image_path = r'C:\\Users\\Snaptokon\\OneDrive\\Documents\\TINT\\Research\\Codes\\random_4x4_image.png'  # Replace with the path to your image\n",
    "\n",
    "# Perform dilation\n",
    "original_image, dilated_image = morphological_dilation(image_path)\n",
    "save_image(dilated_image, 'dilated_image.png')  # Save the dilated image\n",
    "display_images_with_borders(original_image, dilated_image, [\"Original Image\", \"Dilated Image\"])\n",
    "\n",
    "# Perform erosion\n",
    "binary_image = preprocess_image(image_path)\n",
    "kernel = np.ones((2, 2), np.uint8)\n",
    "eroded_image_classical = classical_erosion(binary_image, kernel)\n",
    "display_images_with_borders(binary_image, eroded_image_classical, [\"Original Binary Image\", \"Classical Erosion Result\"])\n",
    "\n",
    "# Perform image sharpening\n",
    "sharpened_image = image_sharpening(dilated_image)\n",
    "save_image(sharpened_image, 'sharpened_image.png')  # Save the sharpened image\n",
    "display_images_with_borders(dilated_image, sharpened_image, [\"Dilated Image\", \"Sharpened Image\"])\n",
    "\n",
    "# Perform image restoration\n",
    "restored_image = image_restoration(sharpened_image)\n",
    "save_image(restored_image, 'restored_image.png')  # Save the restored image\n",
    "display_images_with_borders(sharpened_image, restored_image, [\"Sharpened Image\", \"Restored Image\"])\n"
   ]
  }
 ],
 "metadata": {
  "kernelspec": {
   "display_name": "cwq",
   "language": "python",
   "name": "python3"
  },
  "language_info": {
   "codemirror_mode": {
    "name": "ipython",
    "version": 3
   },
   "file_extension": ".py",
   "mimetype": "text/x-python",
   "name": "python",
   "nbconvert_exporter": "python",
   "pygments_lexer": "ipython3",
   "version": "3.12.3"
  }
 },
 "nbformat": 4,
 "nbformat_minor": 2
}
